{
  "nbformat": 4,
  "nbformat_minor": 0,
  "metadata": {
    "colab": {
      "name": "Untitled3.ipynb",
      "provenance": [],
      "collapsed_sections": [],
      "authorship_tag": "ABX9TyO/KZj+9mHD7ifMl+PoOUYl"
    },
    "kernelspec": {
      "name": "python3",
      "display_name": "Python 3"
    },
    "accelerator": "GPU"
  },
  "cells": [
    {
      "cell_type": "markdown",
      "metadata": {
        "id": "uru-SDR7N-ZF",
        "colab_type": "text"
      },
      "source": [
        "#Install flasgger and flask_ngrok"
      ]
    },
    {
      "cell_type": "code",
      "metadata": {
        "id": "wNmgW0kjDOye",
        "colab_type": "code",
        "colab": {
          "base_uri": "https://localhost:8080/",
          "height": 303
        },
        "outputId": "c654d8ae-da12-443a-c7ca-a2587a8534a7"
      },
      "source": [
        "!pip install flasgger==0.8.3"
      ],
      "execution_count": 3,
      "outputs": [
        {
          "output_type": "stream",
          "text": [
            "Collecting flasgger==0.8.3\n",
            "\u001b[?25l  Downloading https://files.pythonhosted.org/packages/27/7d/4921d26bd5b6db3809f10fcbb6fa9c76f0b0939874628fd7d8b3263b785d/flasgger-0.8.3-py2.py3-none-any.whl (5.7MB)\n",
            "\u001b[K     |████████████████████████████████| 5.7MB 3.3MB/s \n",
            "\u001b[?25hRequirement already satisfied: PyYAML>=3.0 in /usr/local/lib/python3.6/dist-packages (from flasgger==0.8.3) (3.13)\n",
            "Requirement already satisfied: Flask>=0.10 in /usr/local/lib/python3.6/dist-packages (from flasgger==0.8.3) (1.1.1)\n",
            "Requirement already satisfied: mistune in /usr/local/lib/python3.6/dist-packages (from flasgger==0.8.3) (0.8.4)\n",
            "Requirement already satisfied: six>=1.10.0 in /tensorflow-2.1.0/python3.6 (from flasgger==0.8.3) (1.13.0)\n",
            "Requirement already satisfied: jsonschema>=2.5.1 in /usr/local/lib/python3.6/dist-packages (from flasgger==0.8.3) (2.6.0)\n",
            "Requirement already satisfied: click>=5.1 in /usr/local/lib/python3.6/dist-packages (from Flask>=0.10->flasgger==0.8.3) (7.0)\n",
            "Requirement already satisfied: itsdangerous>=0.24 in /usr/local/lib/python3.6/dist-packages (from Flask>=0.10->flasgger==0.8.3) (1.1.0)\n",
            "Requirement already satisfied: Jinja2>=2.10.1 in /usr/local/lib/python3.6/dist-packages (from Flask>=0.10->flasgger==0.8.3) (2.10.3)\n",
            "Requirement already satisfied: Werkzeug>=0.15 in /tensorflow-2.1.0/python3.6 (from Flask>=0.10->flasgger==0.8.3) (0.16.0)\n",
            "Requirement already satisfied: MarkupSafe>=0.23 in /usr/local/lib/python3.6/dist-packages (from Jinja2>=2.10.1->Flask>=0.10->flasgger==0.8.3) (1.1.1)\n",
            "Installing collected packages: flasgger\n",
            "Successfully installed flasgger-0.8.3\n"
          ],
          "name": "stdout"
        }
      ]
    },
    {
      "cell_type": "code",
      "metadata": {
        "id": "PhS5b5xBD_tL",
        "colab_type": "code",
        "colab": {
          "base_uri": "https://localhost:8080/",
          "height": 303
        },
        "outputId": "fa45d296-da0c-49f8-99ba-3bd171a65078"
      },
      "source": [
        "!pip install flask_ngrok"
      ],
      "execution_count": 4,
      "outputs": [
        {
          "output_type": "stream",
          "text": [
            "Collecting flask_ngrok\n",
            "  Downloading https://files.pythonhosted.org/packages/af/6c/f54cb686ad1129e27d125d182f90f52b32f284e6c8df58c1bae54fa1adbc/flask_ngrok-0.0.25-py3-none-any.whl\n",
            "Requirement already satisfied: Flask>=0.8 in /usr/local/lib/python3.6/dist-packages (from flask_ngrok) (1.1.1)\n",
            "Requirement already satisfied: requests in /tensorflow-2.1.0/python3.6 (from flask_ngrok) (2.22.0)\n",
            "Requirement already satisfied: Jinja2>=2.10.1 in /usr/local/lib/python3.6/dist-packages (from Flask>=0.8->flask_ngrok) (2.10.3)\n",
            "Requirement already satisfied: itsdangerous>=0.24 in /usr/local/lib/python3.6/dist-packages (from Flask>=0.8->flask_ngrok) (1.1.0)\n",
            "Requirement already satisfied: Werkzeug>=0.15 in /tensorflow-2.1.0/python3.6 (from Flask>=0.8->flask_ngrok) (0.16.0)\n",
            "Requirement already satisfied: click>=5.1 in /usr/local/lib/python3.6/dist-packages (from Flask>=0.8->flask_ngrok) (7.0)\n",
            "Requirement already satisfied: chardet<3.1.0,>=3.0.2 in /tensorflow-2.1.0/python3.6 (from requests->flask_ngrok) (3.0.4)\n",
            "Requirement already satisfied: idna<2.9,>=2.5 in /tensorflow-2.1.0/python3.6 (from requests->flask_ngrok) (2.8)\n",
            "Requirement already satisfied: certifi>=2017.4.17 in /tensorflow-2.1.0/python3.6 (from requests->flask_ngrok) (2019.11.28)\n",
            "Requirement already satisfied: urllib3!=1.25.0,!=1.25.1,<1.26,>=1.21.1 in /tensorflow-2.1.0/python3.6 (from requests->flask_ngrok) (1.25.7)\n",
            "Requirement already satisfied: MarkupSafe>=0.23 in /usr/local/lib/python3.6/dist-packages (from Jinja2>=2.10.1->Flask>=0.8->flask_ngrok) (1.1.1)\n",
            "Installing collected packages: flask-ngrok\n",
            "Successfully installed flask-ngrok-0.0.25\n"
          ],
          "name": "stdout"
        }
      ]
    },
    {
      "cell_type": "markdown",
      "metadata": {
        "id": "rSjv4Dm7OGwc",
        "colab_type": "text"
      },
      "source": [
        "#Develop the app using Flask"
      ]
    },
    {
      "cell_type": "code",
      "metadata": {
        "id": "OMuf0Qw8DCKX",
        "colab_type": "code",
        "colab": {
          "base_uri": "https://localhost:8080/",
          "height": 176
        },
        "outputId": "a2d410f7-e3c5-440d-933b-baa7c24bbb39"
      },
      "source": [
        "#!/usr/bin/env python3\n",
        "# -*- coding: utf-8 -*-\n",
        "\"\"\"\n",
        "\n",
        "\"\"\"\n",
        "%tensorflow_version 2.x\n",
        "import tensorflow\n",
        "from tensorflow.keras.backend import clear_session\n",
        "clear_session()\n",
        "\n",
        "#Specify 'channels_first' to be the dimension ordering convention Keras will follow.\n",
        "tensorflow.keras.backend.set_image_data_format('channels_first')\n",
        "\n",
        "from flask_ngrok import run_with_ngrok\n",
        "from tensorflow.keras.models import load_model\n",
        "from PIL import Image\n",
        "import numpy as np\n",
        "from flasgger import Swagger\n",
        "\n",
        "from flask import Flask, request\n",
        "app = Flask(__name__)\n",
        "swagger = Swagger(app)\n",
        "\n",
        "model = load_model('./model.h5')\n",
        "run_with_ngrok(app)   #starts ngrok when the app is run\n",
        "\n",
        "@app.route('/predict_digit', methods=['POST'])\n",
        "def predict_digit():\n",
        "    \"\"\"Example endpoint returning a prediction of mnist\n",
        "    ---\n",
        "    parameters:\n",
        "        - name: image\n",
        "          in: formData\n",
        "          type: file\n",
        "          required: true\n",
        "    \"\"\"\n",
        "    im = Image.open(request.files['image'])\n",
        "    im2arr = np.array(im).reshape((1, 1, 28, 28))\n",
        "    return str(np.argmax(model.predict(im2arr)))\n",
        "\n",
        "if __name__ == '__main__':\n",
        "    app.run()"
      ],
      "execution_count": 0,
      "outputs": [
        {
          "output_type": "stream",
          "text": [
            " * Serving Flask app \"__main__\" (lazy loading)\n",
            " * Environment: production\n",
            "   WARNING: This is a development server. Do not use it in a production deployment.\n",
            "   Use a production WSGI server instead.\n",
            " * Debug mode: off\n"
          ],
          "name": "stdout"
        },
        {
          "output_type": "stream",
          "text": [
            " * Running on http://127.0.0.1:5000/ (Press CTRL+C to quit)\n"
          ],
          "name": "stderr"
        },
        {
          "output_type": "stream",
          "text": [
            " * Running on http://452381a7.ngrok.io\n",
            " * Traffic stats available on http://127.0.0.1:4040\n"
          ],
          "name": "stdout"
        },
        {
          "output_type": "stream",
          "text": [
            "127.0.0.1 - - [26/Jan/2020 04:54:49] \"\u001b[37mPOST /predict_digit HTTP/1.1\u001b[0m\" 200 -\n"
          ],
          "name": "stderr"
        }
      ]
    },
    {
      "cell_type": "code",
      "metadata": {
        "id": "MBDO4ZHoDLpU",
        "colab_type": "code",
        "colab": {}
      },
      "source": [
        ""
      ],
      "execution_count": 0,
      "outputs": []
    }
  ]
}