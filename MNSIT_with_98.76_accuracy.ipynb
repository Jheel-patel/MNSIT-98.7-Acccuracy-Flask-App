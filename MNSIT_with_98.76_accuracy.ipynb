{
  "nbformat": 4,
  "nbformat_minor": 0,
  "metadata": {
    "colab": {
      "name": "MNSIT with 98.76 %accuracy.ipynb",
      "provenance": [],
      "collapsed_sections": [],
      "toc_visible": true,
      "authorship_tag": "ABX9TyPLhMpPwPeGc0LOLrzbnH9m"
    },
    "kernelspec": {
      "name": "python3",
      "display_name": "Python 3"
    },
    "accelerator": "GPU"
  },
  "cells": [
    {
      "cell_type": "markdown",
      "metadata": {
        "id": "zIm-8FmNB4AW",
        "colab_type": "text"
      },
      "source": [
        "#Import Libraries,Dataset and split dataset"
      ]
    },
    {
      "cell_type": "code",
      "metadata": {
        "id": "XVpO7EW4ifX-",
        "colab_type": "code",
        "colab": {
          "base_uri": "https://localhost:8080/",
          "height": 267
        },
        "outputId": "b08a24ad-e237-4005-84a7-70b78f798773"
      },
      "source": [
        "#Importing All required Library\n",
        "\n",
        "import pandas as pd\n",
        "import numpy as np\n",
        "%tensorflow_version 2.x\n",
        "import tensorflow as tf\n",
        "from tensorflow.keras import datasets\n",
        "from tensorflow.keras.layers import Conv2D,Flatten,MaxPooling2D,Dense,Dropout,BatchNormalization\n",
        "import matplotlib.pyplot as plt\n",
        "\n",
        "from tensorflow.keras.utils import to_categorical\n",
        "\n",
        "#Specify 'channels_first' to be the dimension ordering convention Keras will follow.\n",
        "tf.keras.backend.set_image_data_format('channels_first')\n",
        "\n",
        "# Load dataset (download if needed)\n",
        "(X_train, y_train), (X_test, y_test) = datasets.mnist.load_data()\n",
        "\n",
        "#Extracting the validation set\n",
        "from sklearn.model_selection import train_test_split\n",
        "\n",
        "X_train,X_val, y_train,y_val = train_test_split(X_train,y_train,test_size=.3)\n",
        "\n",
        "plt.subplot(221)\n",
        "plt.imshow(X_train[0], cmap=plt.get_cmap('gray'))\n",
        "plt.subplot(222)\n",
        "plt.imshow(X_train[1], cmap=plt.get_cmap('gray'))\n",
        "plt.subplot(223)\n",
        "plt.imshow(X_train[2], cmap=plt.get_cmap('gray'))\n",
        "plt.subplot(224)\n",
        "plt.imshow(X_train[3], cmap=plt.get_cmap('gray'))\n",
        "\n",
        "plt.show()"
      ],
      "execution_count": 16,
      "outputs": [
        {
          "output_type": "display_data",
          "data": {
            "image/png": "[encoded data removed]",
            "text/plain": [
              "<Figure size 432x288 with 4 Axes>"
            ]
          },
          "metadata": {
            "tags": []
          }
        }
      ]
    },
    {
      "cell_type": "markdown",
      "metadata": {
        "id": "JIYTCa6u34Sf",
        "colab_type": "text"
      },
      "source": [
        "#Pre-processing Data\n"
      ]
    },
    {
      "cell_type": "code",
      "metadata": {
        "id": "WH5FVXl-3whX",
        "colab_type": "code",
        "colab": {}
      },
      "source": [
        "X_train = X_train.reshape(X_train.shape[0],1,28,28).astype('float64')\n",
        "X_val = X_val.reshape(X_val.shape[0],1,28,28).astype('float64')\n",
        "\n",
        "X_train = X_train/255\n",
        "X_val = X_val/255\n",
        "\n",
        "#one hot encoding output y\n",
        "\n",
        "y_train = to_categorical(y_train)\n",
        "y_val = to_categorical(y_val)\n",
        "\n",
        "#total number of classes \n",
        "num_classes = y_train.shape[1]\n",
        "\n",
        "#input shape\n",
        "rows = X_train.shape[2]\n",
        "cols = X_train.shape[3]"
      ],
      "execution_count": 0,
      "outputs": []
    },
    {
      "cell_type": "markdown",
      "metadata": {
        "id": "3ywWnxJOB_On",
        "colab_type": "text"
      },
      "source": [
        "#Data Augmentation"
      ]
    },
    {
      "cell_type": "code",
      "metadata": {
        "id": "TWN4hI_SYwYx",
        "colab_type": "code",
        "colab": {}
      },
      "source": [
        "from tensorflow.keras.preprocessing.image import ImageDataGenerator\n",
        "\n",
        "# define data preparation\n",
        "datagen = ImageDataGenerator(rotation_range=10,width_shift_range=0.1,height_shift_range=0.1,zoom_range=0.1)\n",
        "\n",
        "# fit parameters from data\n",
        "datagen.fit(X_train,augment=True)\n",
        "\n",
        "# get transformed images\n",
        "train_size = X_train.shape[0]\n",
        "augment_size=42000\n",
        "randidx = np.random.randint(train_size, size=augment_size)\n",
        "X_augmented = X_train[randidx].copy()\n",
        "y_augmented = y_train[randidx].copy()\n",
        "X_augmented = datagen.flow(X_augmented, np.zeros(augment_size),\n",
        "                                    batch_size=augment_size, shuffle=False).next()[0]\n",
        "\n",
        "# append augmented data to trainset\n",
        "X_train = np.concatenate((X_train, X_augmented))\n",
        "y_train = np.concatenate((y_train, y_augmented))\n",
        "train_size = X_train.shape[0]"
      ],
      "execution_count": 0,
      "outputs": []
    },
    {
      "cell_type": "markdown",
      "metadata": {
        "id": "o4L9ajKRCEsm",
        "colab_type": "text"
      },
      "source": [
        "#Defining a baseline model"
      ]
    },
    {
      "cell_type": "code",
      "metadata": {
        "id": "fGzLkCyt3UE0",
        "colab_type": "code",
        "colab": {}
      },
      "source": [
        "def baseline_model():\n",
        "    model = tf.keras.Sequential([\n",
        "                                 Conv2D(32,kernel_size=3,activation='relu',input_shape=(1,rows,cols)),\n",
        "                                 BatchNormalization(),\n",
        "                                 Conv2D(32,kernel_size=3,activation='relu'),\n",
        "                                 BatchNormalization(),\n",
        "                                 Conv2D(32,kernel_size=5,strides=2,padding='same',activation='relu'),\n",
        "                                 BatchNormalization(),\n",
        "                                 Dropout(0.4),\n",
        "\n",
        "                                 Conv2D(64,kernel_size=3,activation='relu'),\n",
        "                                 BatchNormalization(),\n",
        "                                 Conv2D(64,kernel_size=3,activation='relu'),\n",
        "                                 BatchNormalization(),\n",
        "                                 Conv2D(64,kernel_size=5,strides=2,padding='same',activation='relu'),\n",
        "                                 BatchNormalization(),\n",
        "                                 Dropout(0.4),\n",
        "\n",
        "                                 Flatten(),\n",
        "                                 Dense(128,activation='relu'),\n",
        "                                 BatchNormalization(),\n",
        "                                 Dropout(0.4),\n",
        "                                 Dense(num_classes,activation='softmax')\n",
        "                                ]) \n",
        "\n",
        "    model.summary()\n",
        "    model.compile(optimizer='adam',loss='categorical_crossentropy',metrics=['accuracy'])\n",
        "    \n",
        "    return model"
      ],
      "execution_count": 0,
      "outputs": []
    },
    {
      "cell_type": "markdown",
      "metadata": {
        "id": "YNa2CZz0CJPm",
        "colab_type": "text"
      },
      "source": [
        "#Train the model"
      ]
    },
    {
      "cell_type": "code",
      "metadata": {
        "id": "69QiHZ3n_eGY",
        "colab_type": "code",
        "colab": {
          "base_uri": "https://localhost:8080/",
          "height": 1000
        },
        "outputId": "563e43f1-2ec0-48f5-f72d-670806567d57"
      },
      "source": [
        "model = baseline_model()\n",
        "BATCH_SIZE=32\n",
        "#Train the model\n",
        "model.fit(X_train,y_train,validation_data=(X_val,y_val),batch_size=BATCH_SIZE,epochs=50, verbose=2)\n",
        "\n",
        "model.save('model.h5')"
      ],
      "execution_count": 20,
      "outputs": [
        {
          "output_type": "stream",
          "text": [
            "Model: \"sequential_2\"\n",
            "_________________________________________________________________\n",
            "Layer (type)                 Output Shape              Param #   \n",
            "=================================================================\n",
            "conv2d_12 (Conv2D)           (None, 32, 26, 26)        320       \n",
            "_________________________________________________________________\n",
            "batch_normalization_14 (Batc (None, 32, 26, 26)        104       \n",
            "_________________________________________________________________\n",
            "conv2d_13 (Conv2D)           (None, 32, 24, 24)        9248      \n",
            "_________________________________________________________________\n",
            "batch_normalization_15 (Batc (None, 32, 24, 24)        96        \n",
            "_________________________________________________________________\n",
            "conv2d_14 (Conv2D)           (None, 32, 12, 12)        25632     \n",
            "_________________________________________________________________\n",
            "batch_normalization_16 (Batc (None, 32, 12, 12)        48        \n",
            "_________________________________________________________________\n",
            "dropout_6 (Dropout)          (None, 32, 12, 12)        0         \n",
            "_________________________________________________________________\n",
            "conv2d_15 (Conv2D)           (None, 64, 10, 10)        18496     \n",
            "_________________________________________________________________\n",
            "batch_normalization_17 (Batc (None, 64, 10, 10)        40        \n",
            "_________________________________________________________________\n",
            "conv2d_16 (Conv2D)           (None, 64, 8, 8)          36928     \n",
            "_________________________________________________________________\n",
            "batch_normalization_18 (Batc (None, 64, 8, 8)          32        \n",
            "_________________________________________________________________\n",
            "conv2d_17 (Conv2D)           (None, 64, 4, 4)          102464    \n",
            "_________________________________________________________________\n",
            "batch_normalization_19 (Batc (None, 64, 4, 4)          16        \n",
            "_________________________________________________________________\n",
            "dropout_7 (Dropout)          (None, 64, 4, 4)          0         \n",
            "_________________________________________________________________\n",
            "flatten_2 (Flatten)          (None, 1024)              0         \n",
            "_________________________________________________________________\n",
            "dense_4 (Dense)              (None, 128)               131200    \n",
            "_________________________________________________________________\n",
            "batch_normalization_20 (Batc (None, 128)               512       \n",
            "_________________________________________________________________\n",
            "dropout_8 (Dropout)          (None, 128)               0         \n",
            "_________________________________________________________________\n",
            "dense_5 (Dense)              (None, 10)                1290      \n",
            "=================================================================\n",
            "Total params: 326,426\n",
            "Trainable params: 326,002\n",
            "Non-trainable params: 424\n",
            "_________________________________________________________________\n",
            "Train on 84000 samples, validate on 18000 samples\n",
            "Epoch 1/50\n",
            "84000/84000 - 18s - loss: 0.2600 - accuracy: 0.9207 - val_loss: 0.0472 - val_accuracy: 0.9869\n",
            "Epoch 2/50\n",
            "84000/84000 - 17s - loss: 0.0837 - accuracy: 0.9750 - val_loss: 0.0333 - val_accuracy: 0.9908\n",
            "Epoch 3/50\n",
            "84000/84000 - 17s - loss: 0.0632 - accuracy: 0.9807 - val_loss: 0.0325 - val_accuracy: 0.9908\n",
            "Epoch 4/50\n",
            "84000/84000 - 16s - loss: 0.0498 - accuracy: 0.9851 - val_loss: 0.0307 - val_accuracy: 0.9917\n",
            "Epoch 5/50\n",
            "84000/84000 - 16s - loss: 0.0436 - accuracy: 0.9874 - val_loss: 0.0337 - val_accuracy: 0.9906\n",
            "Epoch 6/50\n",
            "84000/84000 - 17s - loss: 0.0362 - accuracy: 0.9894 - val_loss: 0.0254 - val_accuracy: 0.9933\n",
            "Epoch 7/50\n",
            "84000/84000 - 17s - loss: 0.0313 - accuracy: 0.9902 - val_loss: 0.0304 - val_accuracy: 0.9923\n",
            "Epoch 8/50\n",
            "84000/84000 - 17s - loss: 0.0291 - accuracy: 0.9908 - val_loss: 0.0234 - val_accuracy: 0.9941\n",
            "Epoch 9/50\n",
            "84000/84000 - 16s - loss: 0.0251 - accuracy: 0.9924 - val_loss: 0.0217 - val_accuracy: 0.9948\n",
            "Epoch 10/50\n",
            "84000/84000 - 16s - loss: 0.0230 - accuracy: 0.9929 - val_loss: 0.0297 - val_accuracy: 0.9928\n",
            "Epoch 11/50\n",
            "84000/84000 - 16s - loss: 0.0224 - accuracy: 0.9930 - val_loss: 0.0232 - val_accuracy: 0.9948\n",
            "Epoch 12/50\n",
            "84000/84000 - 16s - loss: 0.0191 - accuracy: 0.9939 - val_loss: 0.0290 - val_accuracy: 0.9932\n",
            "Epoch 13/50\n",
            "84000/84000 - 16s - loss: 0.0179 - accuracy: 0.9945 - val_loss: 0.0295 - val_accuracy: 0.9936\n",
            "Epoch 14/50\n",
            "84000/84000 - 16s - loss: 0.0171 - accuracy: 0.9944 - val_loss: 0.0307 - val_accuracy: 0.9926\n",
            "Epoch 15/50\n",
            "84000/84000 - 16s - loss: 0.0155 - accuracy: 0.9949 - val_loss: 0.0297 - val_accuracy: 0.9927\n",
            "Epoch 16/50\n",
            "84000/84000 - 16s - loss: 0.0148 - accuracy: 0.9955 - val_loss: 0.0252 - val_accuracy: 0.9945\n",
            "Epoch 17/50\n",
            "84000/84000 - 16s - loss: 0.0131 - accuracy: 0.9957 - val_loss: 0.0275 - val_accuracy: 0.9941\n",
            "Epoch 18/50\n",
            "84000/84000 - 16s - loss: 0.0139 - accuracy: 0.9956 - val_loss: 0.0219 - val_accuracy: 0.9952\n",
            "Epoch 19/50\n",
            "84000/84000 - 16s - loss: 0.0139 - accuracy: 0.9957 - val_loss: 0.0307 - val_accuracy: 0.9938\n",
            "Epoch 20/50\n",
            "84000/84000 - 16s - loss: 0.0122 - accuracy: 0.9962 - val_loss: 0.0299 - val_accuracy: 0.9938\n",
            "Epoch 21/50\n",
            "84000/84000 - 16s - loss: 0.0125 - accuracy: 0.9960 - val_loss: 0.0260 - val_accuracy: 0.9937\n",
            "Epoch 22/50\n",
            "84000/84000 - 16s - loss: 0.0107 - accuracy: 0.9963 - val_loss: 0.0247 - val_accuracy: 0.9954\n",
            "Epoch 23/50\n",
            "84000/84000 - 16s - loss: 0.0104 - accuracy: 0.9967 - val_loss: 0.0270 - val_accuracy: 0.9943\n",
            "Epoch 24/50\n",
            "84000/84000 - 16s - loss: 0.0109 - accuracy: 0.9966 - val_loss: 0.0321 - val_accuracy: 0.9933\n",
            "Epoch 25/50\n",
            "84000/84000 - 16s - loss: 0.0093 - accuracy: 0.9973 - val_loss: 0.0304 - val_accuracy: 0.9943\n",
            "Epoch 26/50\n",
            "84000/84000 - 16s - loss: 0.0104 - accuracy: 0.9967 - val_loss: 0.0302 - val_accuracy: 0.9936\n",
            "Epoch 27/50\n",
            "84000/84000 - 17s - loss: 0.0094 - accuracy: 0.9971 - val_loss: 0.0283 - val_accuracy: 0.9946\n",
            "Epoch 28/50\n",
            "84000/84000 - 17s - loss: 0.0079 - accuracy: 0.9973 - val_loss: 0.0248 - val_accuracy: 0.9952\n",
            "Epoch 29/50\n",
            "84000/84000 - 16s - loss: 0.0081 - accuracy: 0.9973 - val_loss: 0.0290 - val_accuracy: 0.9944\n",
            "Epoch 30/50\n",
            "84000/84000 - 16s - loss: 0.0088 - accuracy: 0.9975 - val_loss: 0.0281 - val_accuracy: 0.9946\n",
            "Epoch 31/50\n",
            "84000/84000 - 17s - loss: 0.0083 - accuracy: 0.9974 - val_loss: 0.0312 - val_accuracy: 0.9941\n",
            "Epoch 32/50\n",
            "84000/84000 - 17s - loss: 0.0071 - accuracy: 0.9977 - val_loss: 0.0272 - val_accuracy: 0.9951\n",
            "Epoch 33/50\n",
            "84000/84000 - 16s - loss: 0.0084 - accuracy: 0.9972 - val_loss: 0.0277 - val_accuracy: 0.9951\n",
            "Epoch 34/50\n",
            "84000/84000 - 16s - loss: 0.0077 - accuracy: 0.9975 - val_loss: 0.0274 - val_accuracy: 0.9952\n",
            "Epoch 35/50\n",
            "84000/84000 - 16s - loss: 0.0072 - accuracy: 0.9976 - val_loss: 0.0252 - val_accuracy: 0.9952\n",
            "Epoch 36/50\n",
            "84000/84000 - 16s - loss: 0.0066 - accuracy: 0.9978 - val_loss: 0.0298 - val_accuracy: 0.9944\n",
            "Epoch 37/50\n",
            "84000/84000 - 16s - loss: 0.0062 - accuracy: 0.9980 - val_loss: 0.0295 - val_accuracy: 0.9953\n",
            "Epoch 38/50\n",
            "84000/84000 - 16s - loss: 0.0065 - accuracy: 0.9979 - val_loss: 0.0309 - val_accuracy: 0.9945\n",
            "Epoch 39/50\n",
            "84000/84000 - 16s - loss: 0.0064 - accuracy: 0.9980 - val_loss: 0.0291 - val_accuracy: 0.9945\n",
            "Epoch 40/50\n",
            "84000/84000 - 16s - loss: 0.0060 - accuracy: 0.9981 - val_loss: 0.0302 - val_accuracy: 0.9947\n",
            "Epoch 41/50\n",
            "84000/84000 - 16s - loss: 0.0065 - accuracy: 0.9978 - val_loss: 0.0324 - val_accuracy: 0.9948\n",
            "Epoch 42/50\n",
            "84000/84000 - 16s - loss: 0.0058 - accuracy: 0.9983 - val_loss: 0.0379 - val_accuracy: 0.9938\n",
            "Epoch 43/50\n",
            "84000/84000 - 17s - loss: 0.0063 - accuracy: 0.9982 - val_loss: 0.0303 - val_accuracy: 0.9945\n",
            "Epoch 44/50\n",
            "84000/84000 - 16s - loss: 0.0057 - accuracy: 0.9983 - val_loss: 0.0311 - val_accuracy: 0.9947\n",
            "Epoch 45/50\n",
            "84000/84000 - 16s - loss: 0.0066 - accuracy: 0.9979 - val_loss: 0.0305 - val_accuracy: 0.9949\n",
            "Epoch 46/50\n",
            "84000/84000 - 17s - loss: 0.0061 - accuracy: 0.9981 - val_loss: 0.0291 - val_accuracy: 0.9952\n",
            "Epoch 47/50\n",
            "84000/84000 - 16s - loss: 0.0054 - accuracy: 0.9982 - val_loss: 0.0303 - val_accuracy: 0.9945\n",
            "Epoch 48/50\n",
            "84000/84000 - 16s - loss: 0.0061 - accuracy: 0.9982 - val_loss: 0.0376 - val_accuracy: 0.9939\n",
            "Epoch 49/50\n",
            "84000/84000 - 16s - loss: 0.0058 - accuracy: 0.9983 - val_loss: 0.0289 - val_accuracy: 0.9948\n",
            "Epoch 50/50\n",
            "84000/84000 - 16s - loss: 0.0049 - accuracy: 0.9984 - val_loss: 0.0280 - val_accuracy: 0.9948\n"
          ],
          "name": "stdout"
        }
      ]
    },
    {
      "cell_type": "markdown",
      "metadata": {
        "id": "3T4flm6iCO8z",
        "colab_type": "text"
      },
      "source": [
        "#Final evaluation : Test Scores"
      ]
    },
    {
      "cell_type": "code",
      "metadata": {
        "id": "--VOcFksOdzE",
        "colab_type": "code",
        "colab": {
          "base_uri": "https://localhost:8080/",
          "height": 70
        },
        "outputId": "6c76a513-684c-4ba9-8011-d57f93bc4529"
      },
      "source": [
        "X_test1 = X_test.reshape(X_test.shape[0],1,28,28).astype('float64')\n",
        "y_test1 = to_categorical(y_test)\n",
        "\n",
        "scores = model.evaluate(X_test1, y_test1,verbose=1)\n",
        "print(\"CNN error: %.2f%%\" % (100 - scores[1]*100))\n",
        "print(\"CNN accuracy: %.2f%%\" % (scores[1]*100))"
      ],
      "execution_count": 23,
      "outputs": [
        {
          "output_type": "stream",
          "text": [
            "10000/10000 [==============================] - 1s 128us/sample - loss: 2.8237 - accuracy: 0.9876\n",
            "CNN error: 1.24%\n",
            "CNN accuracy: 98.76%\n"
          ],
          "name": "stdout"
        }
      ]
    }
  ]
}